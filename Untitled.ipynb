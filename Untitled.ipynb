{
 "cells": [
  {
   "cell_type": "code",
   "execution_count": 1,
   "metadata": {},
   "outputs": [
    {
     "name": "stdout",
     "output_type": "stream",
     "text": [
      "The Moscow Times: 2002-10-02 00:00:00\n",
      "The Guardian: 2013-10-11 00:00:00\n",
      "Daily News: 1977-08-18 00:00:00\n"
     ]
    }
   ],
   "source": [
    "from datetime import datetime\n",
    "\n",
    "# Заданные строки дат\n",
    "dates = {\n",
    "    \"The Moscow Times\": \"Wednesday, October 2, 2002\",\n",
    "    \"The Guardian\": \"Friday, 11.10.13\",\n",
    "    \"Daily News\": \"Thursday, 18 August 1977\"\n",
    "}\n",
    "\n",
    "# Преобразование строк в объекты datetime\n",
    "formatted_dates = {}\n",
    "for newspaper, date_str in dates.items():\n",
    "    if newspaper == \"The Moscow Times\":\n",
    "        formatted_dates[newspaper] = datetime.strptime(date_str, \"%A, %B %d, %Y\")\n",
    "    elif newspaper == \"The Guardian\":\n",
    "        formatted_dates[newspaper] = datetime.strptime(date_str, \"%A, %d.%m.%y\")\n",
    "    elif newspaper == \"Daily News\":\n",
    "        formatted_dates[newspaper] = datetime.strptime(date_str, \"%A, %d %B %Y\")\n",
    "\n",
    "# Вывод результата\n",
    "for newspaper, date_obj in formatted_dates.items():\n",
    "    print(f\"{newspaper}: {date_obj}\")\n"
   ]
  },
  {
   "cell_type": "code",
   "execution_count": 5,
   "metadata": {},
   "outputs": [
    {
     "name": "stdout",
     "output_type": "stream",
     "text": [
      "['2022-01-01', '2022-01-02', '2022-01-03']\n",
      "[]\n",
      "[]\n"
     ]
    }
   ],
   "source": [
    "from datetime import timedelta\n",
    "\n",
    "def date_range(start_date: str, end_date: str):\n",
    "    \"\"\"\n",
    "    Возвращает список дат от start_date до end_date.\n",
    "    Если формат неверный или start_date > end_date, возвращает пустой список.\n",
    "    \"\"\"\n",
    "    try:\n",
    "        # Преобразование строк в объекты datetime\n",
    "        start = datetime.strptime(start_date, \"%Y-%m-%d\")\n",
    "        end = datetime.strptime(end_date, \"%Y-%m-%d\")\n",
    "\n",
    "        # Проверка диапазона\n",
    "        if start > end:\n",
    "            return []\n",
    "\n",
    "        # Генерация списка дат\n",
    "        delta = (end - start).days\n",
    "        return [(start + timedelta(days=i)).strftime(\"%Y-%m-%d\") for i in range(delta + 1)]\n",
    "    except ValueError:\n",
    "        # Возврат пустого списка в случае ошибки\n",
    "        return []\n",
    "\n",
    "# Примеры использования функции\n",
    "print(date_range(\"2022-01-01\", \"2022-01-03\"))  # ['2022-01-01', '2022-01-02', '2022-01-03']\n",
    "print(date_range(\"2022-01-03\", \"2022-01-01\"))  # []\n",
    "print(date_range(\"2022-02-30\", \"2022-02-31\"))  # []"
   ]
  }
 ],
 "metadata": {
  "kernelspec": {
   "display_name": "anaconda3",
   "language": "python",
   "name": "python3"
  },
  "language_info": {
   "codemirror_mode": {
    "name": "ipython",
    "version": 3
   },
   "file_extension": ".py",
   "mimetype": "text/x-python",
   "name": "python",
   "nbconvert_exporter": "python",
   "pygments_lexer": "ipython3",
   "version": "3.12.7"
  }
 },
 "nbformat": 4,
 "nbformat_minor": 2
}
